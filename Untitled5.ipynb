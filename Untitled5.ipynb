{
 "cells": [
  {
   "cell_type": "code",
   "execution_count": 145,
   "id": "8a046e49",
   "metadata": {},
   "outputs": [],
   "source": [
    "from sklearn.neural_network import MLPClassifier\n",
    "from sklearn.datasets import make_classification\n",
    "from sklearn.model_selection import train_test_split"
   ]
  },
  {
   "cell_type": "code",
   "execution_count": 146,
   "id": "20263cc2",
   "metadata": {},
   "outputs": [],
   "source": [
    "X = [ [ 0. , 0. ] , [ 0. , 1. ] , [ 1. , 0. ] , [ 1. , 1. ] ] # entree\n",
    "y = [ 0 , 1 , 1 , 1 ] # Resultats attendus"
   ]
  },
  {
   "cell_type": "code",
   "execution_count": 147,
   "id": "bcd82296",
   "metadata": {},
   "outputs": [],
   "source": [
    "X_train, X_test, y_train, y_test = train_test_split(X, y,test_size=0.20,random_state=1)"
   ]
  },
  {
   "cell_type": "code",
   "execution_count": 148,
   "id": "d2edd78d",
   "metadata": {},
   "outputs": [
    {
     "name": "stdout",
     "output_type": "stream",
     "text": [
      "x_train [[1.0, 0.0], [0.0, 0.0], [0.0, 1.0]]\n",
      "x_test [[1.0, 1.0]]\n",
      "y_train [1, 0, 1]\n",
      "y_test [1]\n"
     ]
    }
   ],
   "source": [
    "print('x_train',X_train)\n",
    "print('x_test',X_test)\n",
    "print('y_train',y_train)\n",
    "print('y_test',y_test)"
   ]
  },
  {
   "cell_type": "code",
   "execution_count": 150,
   "id": "ceae3873",
   "metadata": {},
   "outputs": [],
   "source": [
    "from sklearn.preprocessing import StandardScaler\n",
    "scaler = StandardScaler()\n",
    "# F i t o nly t o t h e t r a i n i n g d a t a\n",
    "scaler.fit(X_train)\n",
    "StandardScaler(copy=True,with_mean=True,with_std=True)\n",
    "# Now a p ply t h e t r a n s f o rm a t i o n s t o t h e d a t a :\n",
    "X_train = scaler.transform(X_train)\n",
    "X_test = scaler.transform(X_test)"
   ]
  },
  {
   "cell_type": "code",
   "execution_count": 41,
   "id": "febeb1df",
   "metadata": {},
   "outputs": [],
   "source": [
    "clf = MLPClassifier(activation='identity',solver='lbfgs',hidden_layer_sizes=(),\n",
    "                    random_state=1, max_iter=300)\n",
    "clf=clf.fit(X_train, y_train)"
   ]
  },
  {
   "cell_type": "code",
   "execution_count": 42,
   "id": "3e763c3d",
   "metadata": {},
   "outputs": [
    {
     "data": {
      "text/plain": [
       "array([[4.85888818e-09, 9.99999995e-01]])"
      ]
     },
     "execution_count": 42,
     "metadata": {},
     "output_type": "execute_result"
    }
   ],
   "source": [
    "clf.predict_proba(X_test)"
   ]
  },
  {
   "cell_type": "code",
   "execution_count": 43,
   "id": "0a9b2c35",
   "metadata": {},
   "outputs": [
    {
     "data": {
      "text/plain": [
       "array([1])"
      ]
     },
     "execution_count": 43,
     "metadata": {},
     "output_type": "execute_result"
    }
   ],
   "source": [
    "predictions= clf.predict(X_test)\n",
    "predictions"
   ]
  },
  {
   "cell_type": "code",
   "execution_count": 44,
   "id": "eff6aaae",
   "metadata": {},
   "outputs": [
    {
     "name": "stdout",
     "output_type": "stream",
     "text": [
      "[[1]]\n"
     ]
    }
   ],
   "source": [
    "from sklearn.metrics import classification_report,confusion_matrix\n",
    "print(confusion_matrix(y_test,predictions))"
   ]
  },
  {
   "cell_type": "code",
   "execution_count": 45,
   "id": "50fbff70",
   "metadata": {},
   "outputs": [
    {
     "name": "stdout",
     "output_type": "stream",
     "text": [
      "              precision    recall  f1-score   support\n",
      "\n",
      "           1       1.00      1.00      1.00         1\n",
      "\n",
      "    accuracy                           1.00         1\n",
      "   macro avg       1.00      1.00      1.00         1\n",
      "weighted avg       1.00      1.00      1.00         1\n",
      "\n"
     ]
    }
   ],
   "source": [
    "print(classification_report(y_test,predictions))"
   ]
  },
  {
   "cell_type": "markdown",
   "id": "c697102b",
   "metadata": {},
   "source": [
    "Q2"
   ]
  },
  {
   "cell_type": "code",
   "execution_count": 60,
   "id": "85287f9f",
   "metadata": {},
   "outputs": [],
   "source": [
    "X = [ [ 0. , 0. ] , [ 0. , 1. ] , [ 1. , 0. ] , [ 1. , 1. ] ] # entree\n",
    "y = [ 0 , 1 , 1 , 0 ] # Resultats attendus"
   ]
  },
  {
   "cell_type": "code",
   "execution_count": 61,
   "id": "eb28fd6c",
   "metadata": {},
   "outputs": [],
   "source": [
    "X_train, X_test, y_train, y_test = train_test_split(X, y,test_size=0.20,random_state=1)"
   ]
  },
  {
   "cell_type": "code",
   "execution_count": 62,
   "id": "53c755c4",
   "metadata": {},
   "outputs": [
    {
     "name": "stdout",
     "output_type": "stream",
     "text": [
      "x_train [[1.0, 0.0], [0.0, 0.0], [0.0, 1.0]]\n",
      "x_test [[1.0, 1.0]]\n",
      "y_train [1, 0, 1]\n",
      "y_test [0]\n"
     ]
    }
   ],
   "source": [
    "print('x_train',X_train)\n",
    "print('x_test',X_test)\n",
    "print('y_train',y_train)\n",
    "print('y_test',y_test)"
   ]
  },
  {
   "cell_type": "code",
   "execution_count": 63,
   "id": "dd0dcd57",
   "metadata": {},
   "outputs": [],
   "source": [
    "clf_q2 = MLPClassifier(activation='identity',solver='lbfgs',\n",
    "                       hidden_layer_sizes=(),random_state=1, max_iter=300)\n",
    "clf_q2=clf_q2.fit(X_train, y_train)"
   ]
  },
  {
   "cell_type": "code",
   "execution_count": 64,
   "id": "362aca33",
   "metadata": {},
   "outputs": [
    {
     "data": {
      "text/plain": [
       "array([[4.85888818e-09, 9.99999995e-01]])"
      ]
     },
     "execution_count": 64,
     "metadata": {},
     "output_type": "execute_result"
    }
   ],
   "source": [
    "clf_q2.predict_proba(X_test)"
   ]
  },
  {
   "cell_type": "code",
   "execution_count": 65,
   "id": "d4a2382d",
   "metadata": {},
   "outputs": [
    {
     "data": {
      "text/plain": [
       "array([1])"
      ]
     },
     "execution_count": 65,
     "metadata": {},
     "output_type": "execute_result"
    }
   ],
   "source": [
    "predictions_q2= clf_q2.predict(X_test)\n",
    "predictions_q2"
   ]
  },
  {
   "cell_type": "code",
   "execution_count": 66,
   "id": "f9680fb1",
   "metadata": {},
   "outputs": [
    {
     "name": "stdout",
     "output_type": "stream",
     "text": [
      "[[0 1]\n",
      " [0 0]]\n"
     ]
    }
   ],
   "source": [
    "from sklearn.metrics import classification_report,confusion_matrix\n",
    "print(confusion_matrix(y_test,predictions_q2))"
   ]
  },
  {
   "cell_type": "code",
   "execution_count": 67,
   "id": "c02edc6b",
   "metadata": {},
   "outputs": [
    {
     "name": "stdout",
     "output_type": "stream",
     "text": [
      "              precision    recall  f1-score   support\n",
      "\n",
      "           0       0.00      0.00      0.00       1.0\n",
      "           1       0.00      0.00      0.00       0.0\n",
      "\n",
      "    accuracy                           0.00       1.0\n",
      "   macro avg       0.00      0.00      0.00       1.0\n",
      "weighted avg       0.00      0.00      0.00       1.0\n",
      "\n"
     ]
    },
    {
     "name": "stderr",
     "output_type": "stream",
     "text": [
      "C:\\Users\\amine\\anaconda3\\lib\\site-packages\\sklearn\\metrics\\_classification.py:1268: UndefinedMetricWarning: Precision and F-score are ill-defined and being set to 0.0 in labels with no predicted samples. Use `zero_division` parameter to control this behavior.\n",
      "  _warn_prf(average, modifier, msg_start, len(result))\n",
      "C:\\Users\\amine\\anaconda3\\lib\\site-packages\\sklearn\\metrics\\_classification.py:1268: UndefinedMetricWarning: Recall and F-score are ill-defined and being set to 0.0 in labels with no true samples. Use `zero_division` parameter to control this behavior.\n",
      "  _warn_prf(average, modifier, msg_start, len(result))\n"
     ]
    }
   ],
   "source": [
    "print(classification_report(y_test,predictions_q2))"
   ]
  },
  {
   "cell_type": "markdown",
   "id": "3d5e29b3",
   "metadata": {},
   "source": [
    "Q2_b"
   ]
  },
  {
   "cell_type": "code",
   "execution_count": 68,
   "id": "21f0adb5",
   "metadata": {},
   "outputs": [],
   "source": [
    "clf_q2_b = MLPClassifier(activation='identity',solver='lbfgs',\n",
    "                         hidden_layer_sizes=(4,2),random_state=1, max_iter=300)\n",
    "clf_q2_b=clf_q2_b.fit(X_train, y_train)"
   ]
  },
  {
   "cell_type": "code",
   "execution_count": 69,
   "id": "ce209030",
   "metadata": {},
   "outputs": [
    {
     "data": {
      "text/plain": [
       "array([[0., 1.]])"
      ]
     },
     "execution_count": 69,
     "metadata": {},
     "output_type": "execute_result"
    }
   ],
   "source": [
    "clf_q2_b.predict_proba(X_test)"
   ]
  },
  {
   "cell_type": "code",
   "execution_count": 70,
   "id": "dd34df9e",
   "metadata": {},
   "outputs": [
    {
     "data": {
      "text/plain": [
       "array([1])"
      ]
     },
     "execution_count": 70,
     "metadata": {},
     "output_type": "execute_result"
    }
   ],
   "source": [
    "predictions_q2_b= clf_q2_b.predict(X_test)\n",
    "predictions_q2_b"
   ]
  },
  {
   "cell_type": "code",
   "execution_count": 71,
   "id": "0ce6836d",
   "metadata": {},
   "outputs": [
    {
     "name": "stdout",
     "output_type": "stream",
     "text": [
      "[[0 1]\n",
      " [0 0]]\n"
     ]
    }
   ],
   "source": [
    "from sklearn.metrics import classification_report,confusion_matrix\n",
    "print(confusion_matrix(y_test,predictions_q2_b))"
   ]
  },
  {
   "cell_type": "code",
   "execution_count": 72,
   "id": "b95ad032",
   "metadata": {},
   "outputs": [
    {
     "name": "stdout",
     "output_type": "stream",
     "text": [
      "              precision    recall  f1-score   support\n",
      "\n",
      "           0       0.00      0.00      0.00       1.0\n",
      "           1       0.00      0.00      0.00       0.0\n",
      "\n",
      "    accuracy                           0.00       1.0\n",
      "   macro avg       0.00      0.00      0.00       1.0\n",
      "weighted avg       0.00      0.00      0.00       1.0\n",
      "\n"
     ]
    },
    {
     "name": "stderr",
     "output_type": "stream",
     "text": [
      "C:\\Users\\amine\\anaconda3\\lib\\site-packages\\sklearn\\metrics\\_classification.py:1268: UndefinedMetricWarning: Precision and F-score are ill-defined and being set to 0.0 in labels with no predicted samples. Use `zero_division` parameter to control this behavior.\n",
      "  _warn_prf(average, modifier, msg_start, len(result))\n",
      "C:\\Users\\amine\\anaconda3\\lib\\site-packages\\sklearn\\metrics\\_classification.py:1268: UndefinedMetricWarning: Recall and F-score are ill-defined and being set to 0.0 in labels with no true samples. Use `zero_division` parameter to control this behavior.\n",
      "  _warn_prf(average, modifier, msg_start, len(result))\n"
     ]
    }
   ],
   "source": [
    "print(classification_report(y_test,predictions_q2_b))"
   ]
  },
  {
   "cell_type": "markdown",
   "id": "7b0e0ebc",
   "metadata": {},
   "source": [
    "partie_2"
   ]
  },
  {
   "cell_type": "code",
   "execution_count": 73,
   "id": "780cada1",
   "metadata": {},
   "outputs": [
    {
     "name": "stdout",
     "output_type": "stream",
     "text": [
      "(1797, 64)\n"
     ]
    }
   ],
   "source": [
    "from sklearn.datasets import load_digits\n",
    "digits = load_digits()\n",
    "print(digits.data.shape)"
   ]
  },
  {
   "cell_type": "code",
   "execution_count": 75,
   "id": "367cc141",
   "metadata": {},
   "outputs": [],
   "source": [
    "X, y = digits[\"data\"],digits[\"target\"]"
   ]
  },
  {
   "cell_type": "code",
   "execution_count": 76,
   "id": "252d8e2a",
   "metadata": {},
   "outputs": [
    {
     "data": {
      "text/plain": [
       "(1797, 64)"
      ]
     },
     "execution_count": 76,
     "metadata": {},
     "output_type": "execute_result"
    }
   ],
   "source": [
    "X.shape"
   ]
  },
  {
   "cell_type": "code",
   "execution_count": 77,
   "id": "5adbe0af",
   "metadata": {},
   "outputs": [
    {
     "data": {
      "text/plain": [
       "(1797,)"
      ]
     },
     "execution_count": 77,
     "metadata": {},
     "output_type": "execute_result"
    }
   ],
   "source": [
    "y.shape"
   ]
  },
  {
   "cell_type": "code",
   "execution_count": 79,
   "id": "f25a7f27",
   "metadata": {},
   "outputs": [],
   "source": [
    "import matplotlib\n",
    "import matplotlib.pyplot as plt"
   ]
  },
  {
   "cell_type": "code",
   "execution_count": 86,
   "id": "8e1b0890",
   "metadata": {},
   "outputs": [
    {
     "data": {
      "text/plain": [
       "<matplotlib.image.AxesImage at 0x159295ef370>"
      ]
     },
     "execution_count": 86,
     "metadata": {},
     "output_type": "execute_result"
    },
    {
     "data": {
      "image/png": "[encoded data removed]",
      "text/plain": [
       "<Figure size 432x288 with 1 Axes>"
      ]
     },
     "metadata": {
      "needs_background": "light"
     },
     "output_type": "display_data"
    }
   ],
   "source": [
    "some_digit = X[1000]\n",
    "some_digit_image = some_digit.reshape(8,8)\n",
    "plt.imshow(some_digit_image,cmap=matplotlib.cm.binary ,interpolation=\"nearest\")"
   ]
  },
  {
   "cell_type": "code",
   "execution_count": 89,
   "id": "da451ceb",
   "metadata": {},
   "outputs": [],
   "source": [
    "X_train, X_test, y_train, y_test = train_test_split(X, y,test_size=0.10,random_state=1)"
   ]
  },
  {
   "cell_type": "code",
   "execution_count": 90,
   "id": "68643936",
   "metadata": {},
   "outputs": [
    {
     "name": "stdout",
     "output_type": "stream",
     "text": [
      "x_train [[ 0.  0.  2. ...  0.  0.  0.]\n",
      " [ 0.  0.  0. ... 14.  2.  0.]\n",
      " [ 0.  0. 10. ...  8.  6.  0.]\n",
      " ...\n",
      " [ 0.  0.  7. ... 13.  2.  0.]\n",
      " [ 0.  0.  0. ... 16.  1.  0.]\n",
      " [ 0.  0.  8. ...  0.  0.  0.]]\n",
      "x_test [[ 0.  0.  6. ...  3.  0.  0.]\n",
      " [ 0.  8. 13. ...  0.  0.  0.]\n",
      " [ 0.  0.  4. ...  6.  0.  0.]\n",
      " ...\n",
      " [ 0.  0.  0. ...  0.  0.  0.]\n",
      " [ 0.  0.  0. ...  6.  0.  0.]\n",
      " [ 0.  0.  2. ...  5.  0.  0.]]\n",
      "y_train [7 6 2 ... 9 1 5]\n",
      "y_test [1 5 0 7 1 0 6 1 5 4 9 2 7 8 4 6 9 3 7 4 7 1 8 6 0 9 6 1 3 7 5 9 8 3 2 8 8\n",
      " 1 1 0 7 9 0 0 8 7 2 7 4 3 4 3 4 0 4 7 0 5 5 5 2 1 7 0 5 1 8 3 3 4 0 3 7 4\n",
      " 3 4 2 9 7 3 2 5 3 4 1 5 5 2 5 2 2 2 2 7 0 8 1 7 4 2 3 8 2 3 3 0 2 9 9 2 3\n",
      " 2 8 1 1 9 1 2 0 4 8 5 4 4 7 6 7 6 6 1 7 5 6 3 8 3 7 1 8 5 3 4 7 8 5 0 6 0\n",
      " 6 3 7 6 5 6 2 2 2 3 0 7 6 5 6 4 1 0 6 0 6 4 0 9 3 8 1 2 3 1 9 0]\n"
     ]
    }
   ],
   "source": [
    "print('x_train',X_train)\n",
    "print('x_test',X_test)\n",
    "print('y_train',y_train)\n",
    "print('y_test',y_test)"
   ]
  },
  {
   "cell_type": "code",
   "execution_count": 92,
   "id": "fa90b3e2",
   "metadata": {},
   "outputs": [],
   "source": [
    "clf_q2 = MLPClassifier(activation='identity',solver='lbfgs',hidden_layer_sizes=(),random_state=1, max_iter=300)\n",
    "clf_q2=clf_q2.fit(X_train, y_train)"
   ]
  },
  {
   "cell_type": "code",
   "execution_count": 94,
   "id": "4fbb2b32",
   "metadata": {},
   "outputs": [
    {
     "data": {
      "text/plain": [
       "array([[3.94904986e-34, 1.00000000e+00, 1.12693316e-19, ...,\n",
       "        9.86581578e-19, 4.20470376e-11, 9.55027178e-25],\n",
       "       [2.30355507e-18, 4.54589628e-30, 7.19082065e-19, ...,\n",
       "        6.24826089e-09, 1.12846679e-12, 2.28116028e-20],\n",
       "       [1.00000000e+00, 5.75161244e-52, 3.86175768e-37, ...,\n",
       "        8.10115591e-32, 3.41051479e-48, 1.90468427e-52],\n",
       "       ...,\n",
       "       [4.21183473e-51, 1.00000000e+00, 1.11426042e-14, ...,\n",
       "        4.54521018e-20, 1.12174261e-15, 1.45146466e-26],\n",
       "       [1.20047601e-25, 1.53868129e-16, 1.92760635e-61, ...,\n",
       "        1.41337378e-15, 5.44992845e-16, 1.00000000e+00],\n",
       "       [1.00000000e+00, 1.36110510e-39, 3.72528975e-46, ...,\n",
       "        5.97327790e-30, 1.02440441e-29, 2.01733757e-26]])"
      ]
     },
     "execution_count": 94,
     "metadata": {},
     "output_type": "execute_result"
    }
   ],
   "source": [
    "clf_q2.predict_proba(X_test)"
   ]
  },
  {
   "cell_type": "code",
   "execution_count": 96,
   "id": "73707537",
   "metadata": {},
   "outputs": [
    {
     "data": {
      "text/plain": [
       "array([1, 5, 0, 7, 1, 0, 6, 1, 5, 4, 9, 2, 7, 8, 4, 6, 9, 3, 7, 4, 3, 4,\n",
       "       8, 6, 0, 9, 6, 1, 3, 7, 5, 9, 8, 3, 2, 8, 8, 1, 1, 0, 7, 9, 0, 0,\n",
       "       8, 7, 2, 7, 4, 3, 4, 3, 4, 0, 4, 7, 0, 5, 5, 5, 2, 1, 7, 0, 5, 1,\n",
       "       8, 3, 3, 4, 0, 3, 7, 4, 3, 4, 2, 9, 7, 3, 2, 5, 3, 4, 1, 5, 5, 2,\n",
       "       1, 2, 2, 2, 2, 7, 0, 8, 1, 7, 4, 2, 3, 8, 2, 3, 3, 0, 2, 9, 5, 2,\n",
       "       3, 2, 8, 1, 1, 9, 1, 2, 0, 4, 8, 5, 4, 4, 7, 6, 3, 6, 6, 1, 7, 5,\n",
       "       6, 3, 8, 3, 7, 1, 8, 5, 3, 4, 7, 8, 5, 0, 6, 0, 6, 3, 7, 6, 5, 6,\n",
       "       2, 2, 2, 3, 0, 7, 6, 5, 6, 4, 1, 0, 6, 0, 6, 4, 0, 9, 3, 5, 1, 2,\n",
       "       3, 1, 9, 0])"
      ]
     },
     "execution_count": 96,
     "metadata": {},
     "output_type": "execute_result"
    }
   ],
   "source": [
    "predictions_q2= clf_q2.predict(X_test)\n",
    "predictions_q2"
   ]
  },
  {
   "cell_type": "code",
   "execution_count": 97,
   "id": "584e5435",
   "metadata": {},
   "outputs": [
    {
     "name": "stdout",
     "output_type": "stream",
     "text": [
      "[[20  0  0  0  0  0  0  0  0  0]\n",
      " [ 0 18  0  0  1  0  0  0  0  0]\n",
      " [ 0  0 21  0  0  0  0  0  0  0]\n",
      " [ 0  0  0 22  0  0  0  0  0  0]\n",
      " [ 0  0  0  0 18  0  0  0  0  0]\n",
      " [ 0  1  0  0  0 16  0  0  0  0]\n",
      " [ 0  0  0  0  0  0 16  0  0  0]\n",
      " [ 0  0  0  2  0  0  0 19  0  0]\n",
      " [ 0  0  0  0  0  1  0  0 14  0]\n",
      " [ 0  0  0  0  0  1  0  0  0 10]]\n"
     ]
    }
   ],
   "source": [
    "from sklearn.metrics import classification_report,confusion_matrix\n",
    "print(confusion_matrix(y_test,predictions_q2))"
   ]
  },
  {
   "cell_type": "code",
   "execution_count": 98,
   "id": "9e7099dd",
   "metadata": {},
   "outputs": [
    {
     "name": "stdout",
     "output_type": "stream",
     "text": [
      "              precision    recall  f1-score   support\n",
      "\n",
      "           0       1.00      1.00      1.00        20\n",
      "           1       0.95      0.95      0.95        19\n",
      "           2       1.00      1.00      1.00        21\n",
      "           3       0.92      1.00      0.96        22\n",
      "           4       0.95      1.00      0.97        18\n",
      "           5       0.89      0.94      0.91        17\n",
      "           6       1.00      1.00      1.00        16\n",
      "           7       1.00      0.90      0.95        21\n",
      "           8       1.00      0.93      0.97        15\n",
      "           9       1.00      0.91      0.95        11\n",
      "\n",
      "    accuracy                           0.97       180\n",
      "   macro avg       0.97      0.96      0.97       180\n",
      "weighted avg       0.97      0.97      0.97       180\n",
      "\n"
     ]
    }
   ],
   "source": [
    "print(classification_report(y_test,predictions_q2))"
   ]
  },
  {
   "cell_type": "code",
   "execution_count": 101,
   "id": "93e5dcfe",
   "metadata": {},
   "outputs": [
    {
     "data": {
      "text/plain": [
       "array([0.95176252, 0.96846011, 0.95918367])"
      ]
     },
     "execution_count": 101,
     "metadata": {},
     "output_type": "execute_result"
    }
   ],
   "source": [
    "from sklearn.model_selection import cross_val_score\n",
    "cross_val_score(clf_q2,X_train,y_train,cv=3,scoring=\"accuracy\")"
   ]
  },
  {
   "cell_type": "markdown",
   "id": "92e05bdb",
   "metadata": {},
   "source": [
    "Q2"
   ]
  },
  {
   "cell_type": "code",
   "execution_count": 103,
   "id": "d536262f",
   "metadata": {},
   "outputs": [],
   "source": [
    "clf_q2 = MLPClassifier(activation='relu',solver='adam',hidden_layer_sizes=(40,30,20,10),random_state=1, max_iter=300)\n",
    "clf_q2=clf_q2.fit(X_train, y_train)"
   ]
  },
  {
   "cell_type": "code",
   "execution_count": 105,
   "id": "430a791b",
   "metadata": {},
   "outputs": [
    {
     "data": {
      "text/plain": [
       "array([[2.79681811e-10, 9.98548857e-01, 2.40673430e-13, ...,\n",
       "        9.34674687e-05, 1.35136479e-03, 3.86440292e-06],\n",
       "       [1.08742795e-21, 7.58671037e-18, 1.59661173e-13, ...,\n",
       "        1.60910061e-07, 2.21066394e-12, 7.51695231e-10],\n",
       "       [9.99998714e-01, 1.05072770e-11, 1.63152887e-25, ...,\n",
       "        7.87515382e-18, 4.63433790e-07, 3.12612390e-14],\n",
       "       ...,\n",
       "       [1.53525241e-08, 9.99972567e-01, 3.30534199e-11, ...,\n",
       "        1.94221373e-06, 4.28372291e-06, 2.03210942e-05],\n",
       "       [5.80782220e-18, 1.11156313e-06, 2.05387664e-09, ...,\n",
       "        7.05566088e-13, 3.80512909e-06, 9.99995076e-01],\n",
       "       [9.99991350e-01, 5.89123733e-11, 3.93860291e-24, ...,\n",
       "        1.38995451e-16, 6.54710165e-06, 3.15004573e-12]])"
      ]
     },
     "execution_count": 105,
     "metadata": {},
     "output_type": "execute_result"
    }
   ],
   "source": [
    "clf_q2.predict_proba(X_test)"
   ]
  },
  {
   "cell_type": "code",
   "execution_count": 106,
   "id": "a2750fab",
   "metadata": {},
   "outputs": [
    {
     "data": {
      "text/plain": [
       "array([1, 5, 0, 7, 1, 0, 6, 1, 5, 4, 9, 2, 7, 8, 4, 6, 9, 3, 7, 4, 7, 1,\n",
       "       8, 6, 0, 9, 6, 1, 3, 7, 5, 9, 8, 3, 2, 8, 8, 1, 1, 0, 7, 9, 0, 0,\n",
       "       8, 7, 2, 7, 4, 3, 4, 3, 4, 0, 4, 7, 0, 5, 9, 5, 2, 1, 7, 0, 5, 1,\n",
       "       8, 3, 3, 4, 0, 3, 7, 4, 3, 4, 2, 9, 7, 3, 2, 5, 3, 4, 1, 5, 5, 2,\n",
       "       5, 2, 2, 2, 2, 7, 0, 8, 1, 7, 4, 2, 3, 8, 2, 3, 3, 0, 2, 9, 9, 2,\n",
       "       3, 2, 8, 1, 1, 9, 1, 2, 0, 4, 8, 5, 4, 4, 7, 6, 7, 6, 6, 1, 7, 5,\n",
       "       6, 3, 8, 3, 7, 1, 8, 5, 3, 4, 7, 8, 5, 0, 6, 0, 6, 3, 7, 6, 5, 6,\n",
       "       2, 2, 2, 3, 0, 7, 6, 5, 6, 4, 1, 0, 6, 0, 6, 4, 0, 9, 3, 9, 1, 2,\n",
       "       3, 1, 9, 0])"
      ]
     },
     "execution_count": 106,
     "metadata": {},
     "output_type": "execute_result"
    }
   ],
   "source": [
    "predictions_q2= clf_q2.predict(X_test)\n",
    "predictions_q2"
   ]
  },
  {
   "cell_type": "code",
   "execution_count": 107,
   "id": "7f774d17",
   "metadata": {},
   "outputs": [
    {
     "name": "stdout",
     "output_type": "stream",
     "text": [
      "[[20  0  0  0  0  0  0  0  0  0]\n",
      " [ 0 19  0  0  0  0  0  0  0  0]\n",
      " [ 0  0 21  0  0  0  0  0  0  0]\n",
      " [ 0  0  0 22  0  0  0  0  0  0]\n",
      " [ 0  0  0  0 18  0  0  0  0  0]\n",
      " [ 0  0  0  0  0 16  0  0  0  1]\n",
      " [ 0  0  0  0  0  0 16  0  0  0]\n",
      " [ 0  0  0  0  0  0  0 21  0  0]\n",
      " [ 0  0  0  0  0  0  0  0 14  1]\n",
      " [ 0  0  0  0  0  0  0  0  0 11]]\n"
     ]
    }
   ],
   "source": [
    "from sklearn.metrics import classification_report,confusion_matrix\n",
    "print(confusion_matrix(y_test,predictions_q2))"
   ]
  },
  {
   "cell_type": "code",
   "execution_count": 108,
   "id": "e99139cb",
   "metadata": {},
   "outputs": [
    {
     "name": "stdout",
     "output_type": "stream",
     "text": [
      "              precision    recall  f1-score   support\n",
      "\n",
      "           0       1.00      1.00      1.00        20\n",
      "           1       1.00      1.00      1.00        19\n",
      "           2       1.00      1.00      1.00        21\n",
      "           3       1.00      1.00      1.00        22\n",
      "           4       1.00      1.00      1.00        18\n",
      "           5       1.00      0.94      0.97        17\n",
      "           6       1.00      1.00      1.00        16\n",
      "           7       1.00      1.00      1.00        21\n",
      "           8       1.00      0.93      0.97        15\n",
      "           9       0.85      1.00      0.92        11\n",
      "\n",
      "    accuracy                           0.99       180\n",
      "   macro avg       0.98      0.99      0.99       180\n",
      "weighted avg       0.99      0.99      0.99       180\n",
      "\n"
     ]
    }
   ],
   "source": [
    "print(classification_report(y_test,predictions_q2))"
   ]
  },
  {
   "cell_type": "code",
   "execution_count": 109,
   "id": "66d8d2c0",
   "metadata": {},
   "outputs": [
    {
     "data": {
      "text/plain": [
       "array([0.92949907, 0.96846011, 0.94805195])"
      ]
     },
     "execution_count": 109,
     "metadata": {},
     "output_type": "execute_result"
    }
   ],
   "source": [
    "from sklearn.model_selection import cross_val_score\n",
    "cross_val_score(clf_q2,X_train,y_train,cv=3,scoring=\"accuracy\")"
   ]
  },
  {
   "cell_type": "markdown",
   "id": "809ddfa5",
   "metadata": {},
   "source": [
    "partie_3"
   ]
  },
  {
   "cell_type": "code",
   "execution_count": 115,
   "id": "9420ff1b",
   "metadata": {},
   "outputs": [
    {
     "data": {
      "text/html": [
       "<div>\n",
       "<style scoped>\n",
       "    .dataframe tbody tr th:only-of-type {\n",
       "        vertical-align: middle;\n",
       "    }\n",
       "\n",
       "    .dataframe tbody tr th {\n",
       "        vertical-align: top;\n",
       "    }\n",
       "\n",
       "    .dataframe thead th {\n",
       "        text-align: right;\n",
       "    }\n",
       "</style>\n",
       "<table border=\"1\" class=\"dataframe\">\n",
       "  <thead>\n",
       "    <tr style=\"text-align: right;\">\n",
       "      <th></th>\n",
       "      <th>instant</th>\n",
       "      <th>dteday</th>\n",
       "      <th>season</th>\n",
       "      <th>yr</th>\n",
       "      <th>mnth</th>\n",
       "      <th>hr</th>\n",
       "      <th>holiday</th>\n",
       "      <th>weekday</th>\n",
       "      <th>workingday</th>\n",
       "      <th>weathersit</th>\n",
       "      <th>temp</th>\n",
       "      <th>atemp</th>\n",
       "      <th>hum</th>\n",
       "      <th>windspeed</th>\n",
       "      <th>casual</th>\n",
       "      <th>registered</th>\n",
       "      <th>cnt</th>\n",
       "    </tr>\n",
       "  </thead>\n",
       "  <tbody>\n",
       "    <tr>\n",
       "      <th>0</th>\n",
       "      <td>1</td>\n",
       "      <td>2011-01-01</td>\n",
       "      <td>1</td>\n",
       "      <td>0</td>\n",
       "      <td>1</td>\n",
       "      <td>0</td>\n",
       "      <td>0</td>\n",
       "      <td>6</td>\n",
       "      <td>0</td>\n",
       "      <td>1</td>\n",
       "      <td>0.24</td>\n",
       "      <td>0.2879</td>\n",
       "      <td>0.81</td>\n",
       "      <td>0.0000</td>\n",
       "      <td>3</td>\n",
       "      <td>13</td>\n",
       "      <td>16</td>\n",
       "    </tr>\n",
       "    <tr>\n",
       "      <th>1</th>\n",
       "      <td>2</td>\n",
       "      <td>2011-01-01</td>\n",
       "      <td>1</td>\n",
       "      <td>0</td>\n",
       "      <td>1</td>\n",
       "      <td>1</td>\n",
       "      <td>0</td>\n",
       "      <td>6</td>\n",
       "      <td>0</td>\n",
       "      <td>1</td>\n",
       "      <td>0.22</td>\n",
       "      <td>0.2727</td>\n",
       "      <td>0.80</td>\n",
       "      <td>0.0000</td>\n",
       "      <td>8</td>\n",
       "      <td>32</td>\n",
       "      <td>40</td>\n",
       "    </tr>\n",
       "    <tr>\n",
       "      <th>2</th>\n",
       "      <td>3</td>\n",
       "      <td>2011-01-01</td>\n",
       "      <td>1</td>\n",
       "      <td>0</td>\n",
       "      <td>1</td>\n",
       "      <td>2</td>\n",
       "      <td>0</td>\n",
       "      <td>6</td>\n",
       "      <td>0</td>\n",
       "      <td>1</td>\n",
       "      <td>0.22</td>\n",
       "      <td>0.2727</td>\n",
       "      <td>0.80</td>\n",
       "      <td>0.0000</td>\n",
       "      <td>5</td>\n",
       "      <td>27</td>\n",
       "      <td>32</td>\n",
       "    </tr>\n",
       "    <tr>\n",
       "      <th>3</th>\n",
       "      <td>4</td>\n",
       "      <td>2011-01-01</td>\n",
       "      <td>1</td>\n",
       "      <td>0</td>\n",
       "      <td>1</td>\n",
       "      <td>3</td>\n",
       "      <td>0</td>\n",
       "      <td>6</td>\n",
       "      <td>0</td>\n",
       "      <td>1</td>\n",
       "      <td>0.24</td>\n",
       "      <td>0.2879</td>\n",
       "      <td>0.75</td>\n",
       "      <td>0.0000</td>\n",
       "      <td>3</td>\n",
       "      <td>10</td>\n",
       "      <td>13</td>\n",
       "    </tr>\n",
       "    <tr>\n",
       "      <th>4</th>\n",
       "      <td>5</td>\n",
       "      <td>2011-01-01</td>\n",
       "      <td>1</td>\n",
       "      <td>0</td>\n",
       "      <td>1</td>\n",
       "      <td>4</td>\n",
       "      <td>0</td>\n",
       "      <td>6</td>\n",
       "      <td>0</td>\n",
       "      <td>1</td>\n",
       "      <td>0.24</td>\n",
       "      <td>0.2879</td>\n",
       "      <td>0.75</td>\n",
       "      <td>0.0000</td>\n",
       "      <td>0</td>\n",
       "      <td>1</td>\n",
       "      <td>1</td>\n",
       "    </tr>\n",
       "    <tr>\n",
       "      <th>...</th>\n",
       "      <td>...</td>\n",
       "      <td>...</td>\n",
       "      <td>...</td>\n",
       "      <td>...</td>\n",
       "      <td>...</td>\n",
       "      <td>...</td>\n",
       "      <td>...</td>\n",
       "      <td>...</td>\n",
       "      <td>...</td>\n",
       "      <td>...</td>\n",
       "      <td>...</td>\n",
       "      <td>...</td>\n",
       "      <td>...</td>\n",
       "      <td>...</td>\n",
       "      <td>...</td>\n",
       "      <td>...</td>\n",
       "      <td>...</td>\n",
       "    </tr>\n",
       "    <tr>\n",
       "      <th>17374</th>\n",
       "      <td>17375</td>\n",
       "      <td>2012-12-31</td>\n",
       "      <td>1</td>\n",
       "      <td>1</td>\n",
       "      <td>12</td>\n",
       "      <td>19</td>\n",
       "      <td>0</td>\n",
       "      <td>1</td>\n",
       "      <td>1</td>\n",
       "      <td>2</td>\n",
       "      <td>0.26</td>\n",
       "      <td>0.2576</td>\n",
       "      <td>0.60</td>\n",
       "      <td>0.1642</td>\n",
       "      <td>11</td>\n",
       "      <td>108</td>\n",
       "      <td>119</td>\n",
       "    </tr>\n",
       "    <tr>\n",
       "      <th>17375</th>\n",
       "      <td>17376</td>\n",
       "      <td>2012-12-31</td>\n",
       "      <td>1</td>\n",
       "      <td>1</td>\n",
       "      <td>12</td>\n",
       "      <td>20</td>\n",
       "      <td>0</td>\n",
       "      <td>1</td>\n",
       "      <td>1</td>\n",
       "      <td>2</td>\n",
       "      <td>0.26</td>\n",
       "      <td>0.2576</td>\n",
       "      <td>0.60</td>\n",
       "      <td>0.1642</td>\n",
       "      <td>8</td>\n",
       "      <td>81</td>\n",
       "      <td>89</td>\n",
       "    </tr>\n",
       "    <tr>\n",
       "      <th>17376</th>\n",
       "      <td>17377</td>\n",
       "      <td>2012-12-31</td>\n",
       "      <td>1</td>\n",
       "      <td>1</td>\n",
       "      <td>12</td>\n",
       "      <td>21</td>\n",
       "      <td>0</td>\n",
       "      <td>1</td>\n",
       "      <td>1</td>\n",
       "      <td>1</td>\n",
       "      <td>0.26</td>\n",
       "      <td>0.2576</td>\n",
       "      <td>0.60</td>\n",
       "      <td>0.1642</td>\n",
       "      <td>7</td>\n",
       "      <td>83</td>\n",
       "      <td>90</td>\n",
       "    </tr>\n",
       "    <tr>\n",
       "      <th>17377</th>\n",
       "      <td>17378</td>\n",
       "      <td>2012-12-31</td>\n",
       "      <td>1</td>\n",
       "      <td>1</td>\n",
       "      <td>12</td>\n",
       "      <td>22</td>\n",
       "      <td>0</td>\n",
       "      <td>1</td>\n",
       "      <td>1</td>\n",
       "      <td>1</td>\n",
       "      <td>0.26</td>\n",
       "      <td>0.2727</td>\n",
       "      <td>0.56</td>\n",
       "      <td>0.1343</td>\n",
       "      <td>13</td>\n",
       "      <td>48</td>\n",
       "      <td>61</td>\n",
       "    </tr>\n",
       "    <tr>\n",
       "      <th>17378</th>\n",
       "      <td>17379</td>\n",
       "      <td>2012-12-31</td>\n",
       "      <td>1</td>\n",
       "      <td>1</td>\n",
       "      <td>12</td>\n",
       "      <td>23</td>\n",
       "      <td>0</td>\n",
       "      <td>1</td>\n",
       "      <td>1</td>\n",
       "      <td>1</td>\n",
       "      <td>0.26</td>\n",
       "      <td>0.2727</td>\n",
       "      <td>0.65</td>\n",
       "      <td>0.1343</td>\n",
       "      <td>12</td>\n",
       "      <td>37</td>\n",
       "      <td>49</td>\n",
       "    </tr>\n",
       "  </tbody>\n",
       "</table>\n",
       "<p>17379 rows × 17 columns</p>\n",
       "</div>"
      ],
      "text/plain": [
       "       instant      dteday  season  yr  mnth  hr  holiday  weekday  \\\n",
       "0            1  2011-01-01       1   0     1   0        0        6   \n",
       "1            2  2011-01-01       1   0     1   1        0        6   \n",
       "2            3  2011-01-01       1   0     1   2        0        6   \n",
       "3            4  2011-01-01       1   0     1   3        0        6   \n",
       "4            5  2011-01-01       1   0     1   4        0        6   \n",
       "...        ...         ...     ...  ..   ...  ..      ...      ...   \n",
       "17374    17375  2012-12-31       1   1    12  19        0        1   \n",
       "17375    17376  2012-12-31       1   1    12  20        0        1   \n",
       "17376    17377  2012-12-31       1   1    12  21        0        1   \n",
       "17377    17378  2012-12-31       1   1    12  22        0        1   \n",
       "17378    17379  2012-12-31       1   1    12  23        0        1   \n",
       "\n",
       "       workingday  weathersit  temp   atemp   hum  windspeed  casual  \\\n",
       "0               0           1  0.24  0.2879  0.81     0.0000       3   \n",
       "1               0           1  0.22  0.2727  0.80     0.0000       8   \n",
       "2               0           1  0.22  0.2727  0.80     0.0000       5   \n",
       "3               0           1  0.24  0.2879  0.75     0.0000       3   \n",
       "4               0           1  0.24  0.2879  0.75     0.0000       0   \n",
       "...           ...         ...   ...     ...   ...        ...     ...   \n",
       "17374           1           2  0.26  0.2576  0.60     0.1642      11   \n",
       "17375           1           2  0.26  0.2576  0.60     0.1642       8   \n",
       "17376           1           1  0.26  0.2576  0.60     0.1642       7   \n",
       "17377           1           1  0.26  0.2727  0.56     0.1343      13   \n",
       "17378           1           1  0.26  0.2727  0.65     0.1343      12   \n",
       "\n",
       "       registered  cnt  \n",
       "0              13   16  \n",
       "1              32   40  \n",
       "2              27   32  \n",
       "3              10   13  \n",
       "4               1    1  \n",
       "...           ...  ...  \n",
       "17374         108  119  \n",
       "17375          81   89  \n",
       "17376          83   90  \n",
       "17377          48   61  \n",
       "17378          37   49  \n",
       "\n",
       "[17379 rows x 17 columns]"
      ]
     },
     "execution_count": 115,
     "metadata": {},
     "output_type": "execute_result"
    }
   ],
   "source": [
    "import pandas as pd\n",
    "data = pd.read_csv(\"C:/Users/amine/Desktop/Master_S3/Deep learning/hour.csv\")\n",
    "data"
   ]
  },
  {
   "cell_type": "code",
   "execution_count": 136,
   "id": "3e0ccfa4",
   "metadata": {},
   "outputs": [],
   "source": [
    "y=data.iloc[:,-1:]\n",
    "X=data.iloc[:,:-1]"
   ]
  },
  {
   "cell_type": "code",
   "execution_count": 137,
   "id": "a4fa5212",
   "metadata": {},
   "outputs": [],
   "source": [
    "from sklearn.neural_network import MLPRegressor\n",
    "from sklearn.datasets import make_regression\n",
    "from sklearn.model_selection import train_test_split"
   ]
  },
  {
   "cell_type": "code",
   "execution_count": 138,
   "id": "0587dffc",
   "metadata": {},
   "outputs": [],
   "source": [
    "X_train, X_test, y_train, y_test = train_test_split(X, y,test_size=0.2,random_state=1)"
   ]
  },
  {
   "cell_type": "code",
   "execution_count": 141,
   "id": "b54c5b1a",
   "metadata": {},
   "outputs": [
    {
     "name": "stdout",
     "output_type": "stream",
     "text": [
      "x_train        instant  season  yr  mnth  hr  holiday  weekday  workingday  \\\n",
      "9088      9089       1   1     1  14        0        4           1   \n",
      "1292      1293       1   0     2   0        0        0           0   \n",
      "13559    13560       3   1     7   4        0        2           1   \n",
      "4145      4146       3   0     6  15        0        0           0   \n",
      "15913    15914       4   1    10  18        0        3           1   \n",
      "...        ...     ...  ..   ...  ..      ...      ...         ...   \n",
      "10955    10956       2   1     4  15        0        5           1   \n",
      "17289    17290       1   1    12   6        0        5           1   \n",
      "5192      5193       3   0     8   6        0        2           1   \n",
      "12172    12173       2   1     5   9        0        0           0   \n",
      "235        236       1   0     1   2        0        2           1   \n",
      "\n",
      "       weathersit  temp   atemp   hum  windspeed  casual  registered  \n",
      "9088            1  0.24  0.2273  0.44     0.1940      15         104  \n",
      "1292            1  0.26  0.2424  0.87     0.2836       8          26  \n",
      "13559           1  0.66  0.6061  0.83     0.0896       0           6  \n",
      "4145            1  0.74  0.6515  0.40     0.0000     174         229  \n",
      "15913           2  0.40  0.4091  0.58     0.1642      28         556  \n",
      "...           ...   ...     ...   ...        ...     ...         ...  \n",
      "10955           1  0.50  0.4848  0.27     0.2836     218         319  \n",
      "17289           1  0.22  0.2121  0.64     0.2836       2          49  \n",
      "5192            1  0.72  0.6667  0.64     0.0000       6          95  \n",
      "12172           1  0.66  0.6061  0.83     0.2239     130         140  \n",
      "235             2  0.16  0.1515  0.55     0.1940       0           3  \n",
      "\n",
      "[13903 rows x 15 columns]\n",
      "x_test        instant  season  yr  mnth  hr  holiday  weekday  workingday  \\\n",
      "15652    15653       4   1    10   9        0        5           1   \n",
      "3085      3086       2   0     5  11        0        5           1   \n",
      "1684      1685       1   0     3  19        0        2           1   \n",
      "10555    10556       1   1     3  22        0        2           1   \n",
      "14622    14623       3   1     9  11        0        4           1   \n",
      "...        ...     ...  ..   ...  ..      ...      ...         ...   \n",
      "12960    12961       3   1     6   5        0        5           1   \n",
      "16030    16031       4   1    11  15        0        1           1   \n",
      "11160    11161       2   1     4   5        0        0           0   \n",
      "13540    13541       3   1     7   9        0        1           1   \n",
      "591        592       1   0     1  20        0        4           1   \n",
      "\n",
      "       weathersit  temp   atemp   hum  windspeed  casual  registered  \n",
      "15652           2  0.54  0.5152  0.94     0.1045      26         363  \n",
      "3085            2  0.52  0.5000  0.83     0.1642      56          90  \n",
      "1684            2  0.34  0.3182  0.71     0.2836      14         138  \n",
      "10555           1  0.54  0.5152  0.77     0.0000      32         156  \n",
      "14622           3  0.70  0.6667  0.84     0.1642      10          52  \n",
      "...           ...   ...     ...   ...        ...     ...         ...  \n",
      "12960           1  0.70  0.6515  0.61     0.1045       6          39  \n",
      "16030           1  0.38  0.3939  0.40     0.2836      24         207  \n",
      "11160           1  0.50  0.4848  0.68     0.1642       4           6  \n",
      "13540           2  0.74  0.7121  0.74     0.1343      57         288  \n",
      "591             1  0.18  0.2121  0.74     0.0896       4          55  \n",
      "\n",
      "[3476 rows x 15 columns]\n",
      "y_train        cnt\n",
      "9088   119\n",
      "1292    34\n",
      "13559    6\n",
      "4145   403\n",
      "15913  584\n",
      "...    ...\n",
      "10955  537\n",
      "17289   51\n",
      "5192   101\n",
      "12172  270\n",
      "235      3\n",
      "\n",
      "[13903 rows x 1 columns]\n",
      "y_test        cnt\n",
      "15652  389\n",
      "3085   146\n",
      "1684   152\n",
      "10555  188\n",
      "14622   62\n",
      "...    ...\n",
      "12960   45\n",
      "16030  231\n",
      "11160   10\n",
      "13540  345\n",
      "591     59\n",
      "\n",
      "[3476 rows x 1 columns]\n"
     ]
    }
   ],
   "source": [
    "print('x_train',X_train)\n",
    "print('x_test',X_test)\n",
    "print('y_train',y_train)\n",
    "print('y_test',y_test)"
   ]
  },
  {
   "cell_type": "code",
   "execution_count": 142,
   "id": "beab99dc",
   "metadata": {},
   "outputs": [
    {
     "name": "stderr",
     "output_type": "stream",
     "text": [
      "C:\\Users\\amine\\anaconda3\\lib\\site-packages\\sklearn\\neural_network\\_multilayer_perceptron.py:1342: DataConversionWarning: A column-vector y was passed when a 1d array was expected. Please change the shape of y to (n_samples, ), for example using ravel().\n",
      "  y = column_or_1d(y, warn=True)\n"
     ]
    }
   ],
   "source": [
    "regr = MLPRegressor(random_state=1, max_iter=300).fit(X_train, y_train)"
   ]
  },
  {
   "cell_type": "code",
   "execution_count": 143,
   "id": "64529048",
   "metadata": {},
   "outputs": [
    {
     "data": {
      "text/plain": [
       "array([389.0509293 , 145.98828203, 151.97631349, ...,  10.14532632,\n",
       "       345.22435821,  58.77879677])"
      ]
     },
     "execution_count": 143,
     "metadata": {},
     "output_type": "execute_result"
    }
   ],
   "source": [
    "regr.predict(X_test)"
   ]
  },
  {
   "cell_type": "code",
   "execution_count": 144,
   "id": "609689d9",
   "metadata": {},
   "outputs": [
    {
     "data": {
      "text/plain": [
       "0.9999991198108212"
      ]
     },
     "execution_count": 144,
     "metadata": {},
     "output_type": "execute_result"
    }
   ],
   "source": [
    "regr.score(X_test, y_test)"
   ]
  },
  {
   "cell_type": "code",
   "execution_count": null,
   "id": "7aab0238",
   "metadata": {},
   "outputs": [],
   "source": []
  }
 ],
 "metadata": {
  "kernelspec": {
   "display_name": "Python 3",
   "language": "python",
   "name": "python3"
  },
  "language_info": {
   "codemirror_mode": {
    "name": "ipython",
    "version": 3
   },
   "file_extension": ".py",
   "mimetype": "text/x-python",
   "name": "python",
   "nbconvert_exporter": "python",
   "pygments_lexer": "ipython3",
   "version": "3.8.8"
  }
 },
 "nbformat": 4,
 "nbformat_minor": 5
}
